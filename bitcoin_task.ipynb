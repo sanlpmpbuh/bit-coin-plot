{
 "cells": [
  {
   "cell_type": "code",
   "execution_count": 9,
   "metadata": {},
   "outputs": [],
   "source": [
    "import pandas as pd\n",
    "import seaborn as sns\n",
    "import matplotlib.pyplot as plt\n",
    "%matplotlib inline"
   ]
  },
  {
   "cell_type": "code",
   "execution_count": 11,
   "metadata": {},
   "outputs": [
    {
     "data": {
      "text/html": [
       "<div>\n",
       "<style scoped>\n",
       "    .dataframe tbody tr th:only-of-type {\n",
       "        vertical-align: middle;\n",
       "    }\n",
       "\n",
       "    .dataframe tbody tr th {\n",
       "        vertical-align: top;\n",
       "    }\n",
       "\n",
       "    .dataframe thead th {\n",
       "        text-align: right;\n",
       "    }\n",
       "</style>\n",
       "<table border=\"1\" class=\"dataframe\">\n",
       "  <thead>\n",
       "    <tr style=\"text-align: right;\">\n",
       "      <th></th>\n",
       "      <th>Date</th>\n",
       "      <th>Open</th>\n",
       "      <th>High</th>\n",
       "      <th>Low</th>\n",
       "      <th>Close</th>\n",
       "    </tr>\n",
       "  </thead>\n",
       "  <tbody>\n",
       "    <tr>\n",
       "      <th>0</th>\n",
       "      <td>01/01/2017</td>\n",
       "      <td>991.50</td>\n",
       "      <td>1000.00</td>\n",
       "      <td>969.01</td>\n",
       "      <td>969.01</td>\n",
       "    </tr>\n",
       "    <tr>\n",
       "      <th>1</th>\n",
       "      <td>02/01/2017</td>\n",
       "      <td>1014.00</td>\n",
       "      <td>1400.00</td>\n",
       "      <td>971.51</td>\n",
       "      <td>1060.00</td>\n",
       "    </tr>\n",
       "    <tr>\n",
       "      <th>2</th>\n",
       "      <td>03/01/2017</td>\n",
       "      <td>1006.59</td>\n",
       "      <td>1069.50</td>\n",
       "      <td>1006.59</td>\n",
       "      <td>1069.49</td>\n",
       "    </tr>\n",
       "    <tr>\n",
       "      <th>3</th>\n",
       "      <td>04/01/2017</td>\n",
       "      <td>1070.00</td>\n",
       "      <td>1240.00</td>\n",
       "      <td>1070.00</td>\n",
       "      <td>1210.00</td>\n",
       "    </tr>\n",
       "    <tr>\n",
       "      <th>4</th>\n",
       "      <td>05/01/2017</td>\n",
       "      <td>1210.00</td>\n",
       "      <td>1212.00</td>\n",
       "      <td>955.08</td>\n",
       "      <td>1068.00</td>\n",
       "    </tr>\n",
       "    <tr>\n",
       "      <th>...</th>\n",
       "      <td>...</td>\n",
       "      <td>...</td>\n",
       "      <td>...</td>\n",
       "      <td>...</td>\n",
       "      <td>...</td>\n",
       "    </tr>\n",
       "    <tr>\n",
       "      <th>85</th>\n",
       "      <td>27/03/2017</td>\n",
       "      <td>999.99</td>\n",
       "      <td>1064.99</td>\n",
       "      <td>965.05</td>\n",
       "      <td>1064.99</td>\n",
       "    </tr>\n",
       "    <tr>\n",
       "      <th>86</th>\n",
       "      <td>28/03/2017</td>\n",
       "      <td>1064.99</td>\n",
       "      <td>1119.99</td>\n",
       "      <td>1045.01</td>\n",
       "      <td>1108.00</td>\n",
       "    </tr>\n",
       "    <tr>\n",
       "      <th>87</th>\n",
       "      <td>29/03/2017</td>\n",
       "      <td>1108.00</td>\n",
       "      <td>1108.00</td>\n",
       "      <td>1040.00</td>\n",
       "      <td>1067.00</td>\n",
       "    </tr>\n",
       "    <tr>\n",
       "      <th>88</th>\n",
       "      <td>30/03/2017</td>\n",
       "      <td>1094.00</td>\n",
       "      <td>1096.40</td>\n",
       "      <td>1030.00</td>\n",
       "      <td>1078.00</td>\n",
       "    </tr>\n",
       "    <tr>\n",
       "      <th>89</th>\n",
       "      <td>31/03/2017</td>\n",
       "      <td>1080.00</td>\n",
       "      <td>1092.00</td>\n",
       "      <td>1057.00</td>\n",
       "      <td>1090.00</td>\n",
       "    </tr>\n",
       "  </tbody>\n",
       "</table>\n",
       "<p>90 rows × 5 columns</p>\n",
       "</div>"
      ],
      "text/plain": [
       "          Date     Open     High      Low    Close\n",
       "0   01/01/2017   991.50  1000.00   969.01   969.01\n",
       "1   02/01/2017  1014.00  1400.00   971.51  1060.00\n",
       "2   03/01/2017  1006.59  1069.50  1006.59  1069.49\n",
       "3   04/01/2017  1070.00  1240.00  1070.00  1210.00\n",
       "4   05/01/2017  1210.00  1212.00   955.08  1068.00\n",
       "..         ...      ...      ...      ...      ...\n",
       "85  27/03/2017   999.99  1064.99   965.05  1064.99\n",
       "86  28/03/2017  1064.99  1119.99  1045.01  1108.00\n",
       "87  29/03/2017  1108.00  1108.00  1040.00  1067.00\n",
       "88  30/03/2017  1094.00  1096.40  1030.00  1078.00\n",
       "89  31/03/2017  1080.00  1092.00  1057.00  1090.00\n",
       "\n",
       "[90 rows x 5 columns]"
      ]
     },
     "execution_count": 11,
     "metadata": {},
     "output_type": "execute_result"
    }
   ],
   "source": [
    "filepath = (r'C:\\Users\\ARSALAN\\Desktop\\INDIAN SERVERS\\week 2\\assginment\\bitcoin.csv')\n",
    "bit_data = pd.read_csv(filepath)\n",
    "bit_data"
   ]
  },
  {
   "cell_type": "code",
   "execution_count": 21,
   "metadata": {},
   "outputs": [
    {
     "data": {
      "image/png": "[encoded data removed]",
      "text/plain": [
       "<Figure size 576x432 with 1 Axes>"
      ]
     },
     "metadata": {
      "needs_background": "light"
     },
     "output_type": "display_data"
    }
   ],
   "source": [
    "x = bit_data[\"Date\"].to_numpy()\n",
    "y= bit_data[\"High\"].to_numpy()\n",
    "\n",
    "plt.figure(figsize=(8,6))\n",
    "plt.plot(x,y,'ro-')\n",
    "plt.show()"
   ]
  },
  {
   "cell_type": "code",
   "execution_count": null,
   "metadata": {},
   "outputs": [],
   "source": []
  }
 ],
 "metadata": {
  "kernelspec": {
   "display_name": "Python 3",
   "language": "python",
   "name": "python3"
  },
  "language_info": {
   "codemirror_mode": {
    "name": "ipython",
    "version": 3
   },
   "file_extension": ".py",
   "mimetype": "text/x-python",
   "name": "python",
   "nbconvert_exporter": "python",
   "pygments_lexer": "ipython3",
   "version": "3.7.6"
  }
 },
 "nbformat": 4,
 "nbformat_minor": 4
}
